{
 "cells": [
  {
   "cell_type": "code",
   "execution_count": 1,
   "id": "dffd86f5-0e69-45bc-9c95-0e7b39f8d19e",
   "metadata": {},
   "outputs": [
    {
     "name": "stdout",
     "output_type": "stream",
     "text": [
      "Let's dive into functions, lists, and user interaction 🚀\n"
     ]
    }
   ],
   "source": [
    "# --- Day 3: Functions, Lists, and User Input ---\n",
    "print(\"Let's dive into functions, lists, and user interaction 🚀\")"
   ]
  },
  {
   "cell_type": "code",
   "execution_count": 2,
   "id": "e5f8ab8f-4cb7-4560-99ff-86ec1a23c71d",
   "metadata": {},
   "outputs": [
    {
     "name": "stdout",
     "output_type": "stream",
     "text": [
      "👋 Hello, Karan! Keep pushing toward your 30LPA+ goal!\n"
     ]
    }
   ],
   "source": [
    "def greet(name):\n",
    "    print(f\"👋 Hello, {name}! Keep pushing toward your 30LPA+ goal!\")\n",
    "    \n",
    "# Example:\n",
    "greet(\"Karan\")"
   ]
  },
  {
   "cell_type": "code",
   "execution_count": 3,
   "id": "d63876f3-a915-488a-9617-cfaf988d9b21",
   "metadata": {},
   "outputs": [
    {
     "name": "stdout",
     "output_type": "stream",
     "text": [
      "['Python', 'SQL']\n"
     ]
    }
   ],
   "source": [
    "def add_tech(tech_list, tech):\n",
    "    tech_list.append(tech)\n",
    "    return tech_list\n",
    "\n",
    "# Example:\n",
    "my_techs = []\n",
    "add_tech(my_techs, \"Python\")\n",
    "add_tech(my_techs, \"SQL\")\n",
    "print(my_techs)"
   ]
  },
  {
   "cell_type": "code",
   "execution_count": 4,
   "id": "4f13309d-0a80-479c-b107-6a8eadc9db83",
   "metadata": {},
   "outputs": [
    {
     "name": "stdout",
     "output_type": "stream",
     "text": [
      "📚 Your Learning Path:\n",
      " - Python\n",
      " - SQL\n"
     ]
    }
   ],
   "source": [
    "def show_tech(tech_list):\n",
    "    print(\"📚 Your Learning Path:\")\n",
    "    for t in tech_list:\n",
    "        print(f\" - {t}\")\n",
    "\n",
    "# Example:\n",
    "show_tech(my_techs)"
   ]
  },
  {
   "cell_type": "code",
   "execution_count": 5,
   "id": "e8f9f6dc-ddd7-48d3-9ac0-10e390699f9d",
   "metadata": {},
   "outputs": [
    {
     "name": "stdin",
     "output_type": "stream",
     "text": [
      "Enter a tech to learn (or 'done' to finish):  C\n",
      "Enter a tech to learn (or 'done' to finish):  C++\n",
      "Enter a tech to learn (or 'done' to finish):  Java\n",
      "Enter a tech to learn (or 'done' to finish):  Python\n",
      "Enter a tech to learn (or 'done' to finish):  done\n"
     ]
    },
    {
     "name": "stdout",
     "output_type": "stream",
     "text": [
      "📚 Your Learning Path:\n",
      " - C\n",
      " - C++\n",
      " - Java\n",
      " - Python\n"
     ]
    }
   ],
   "source": [
    "# Combining everything\n",
    "user_techs = []\n",
    "\n",
    "while True:\n",
    "    tech = input(\"Enter a tech to learn (or 'done' to finish): \")\n",
    "    if tech.lower() == 'done':\n",
    "        break\n",
    "    add_tech(user_techs, tech)\n",
    "\n",
    "show_tech(user_techs)"
   ]
  },
  {
   "cell_type": "code",
   "execution_count": 6,
   "id": "a56e86be-bb8b-491f-9369-3a145821d397",
   "metadata": {},
   "outputs": [
    {
     "name": "stdout",
     "output_type": "stream",
     "text": [
      "✅ You’ve planned to learn 4 technologies!\n"
     ]
    }
   ],
   "source": [
    "def count_stack(stack):\n",
    "    print(f\"✅ You’ve planned to learn {len(stack)} technologies!\")\n",
    "\n",
    "count_stack(user_techs)"
   ]
  },
  {
   "cell_type": "code",
   "execution_count": null,
   "id": "84d9b88a-176b-44dc-a486-22f95bd5de96",
   "metadata": {},
   "outputs": [],
   "source": []
  }
 ],
 "metadata": {
  "kernelspec": {
   "display_name": "Python (venv)",
   "language": "python",
   "name": "venv"
  },
  "language_info": {
   "codemirror_mode": {
    "name": "ipython",
    "version": 3
   },
   "file_extension": ".py",
   "mimetype": "text/x-python",
   "name": "python",
   "nbconvert_exporter": "python",
   "pygments_lexer": "ipython3",
   "version": "3.13.5"
  }
 },
 "nbformat": 4,
 "nbformat_minor": 5
}
