{
 "cells": [
  {
   "cell_type": "code",
   "execution_count": 1,
   "id": "6f92fd89-b944-45e0-badb-32b7ea7bf6ea",
   "metadata": {},
   "outputs": [
    {
     "name": "stdout",
     "output_type": "stream",
     "text": [
      "--- Data Types ---\n",
      "<class 'str'> <class 'list'> <class 'dict'>\n",
      "\n",
      "--- If-Else ---\n",
      "Keep pushing 🚀\n",
      "\n",
      "--- Loops ---\n",
      "Learning: Python\n",
      "Learning: SQL\n",
      "Learning: Cloud\n",
      "Learning: AI\n",
      "\n",
      "--- While Loop ---\n",
      "Round 1\n",
      "Round 2\n",
      "Round 3\n",
      "\n",
      "--- Challenge ---\n",
      "Zero\n"
     ]
    }
   ],
   "source": [
    "# --- Day 2: Python Control Flow & Data Types ---\n",
    "\n",
    "# 🔹 Data Types\n",
    "my_string = \"Python is powerful!\"\n",
    "my_int = 30\n",
    "my_float = 99.9\n",
    "my_bool = True\n",
    "my_list = [\"Python\", \"SQL\", \"Cloud\", \"AI\"]\n",
    "my_dict = {\"name\": \"Karan\", \"target\": \"30LPA+\"}\n",
    "\n",
    "print(\"--- Data Types ---\")\n",
    "print(type(my_string), type(my_list), type(my_dict))\n",
    "\n",
    "# 🔹 If-Else\n",
    "print(\"\\n--- If-Else ---\")\n",
    "salary = 20\n",
    "if salary >= 30:\n",
    "    print(\"Goal achieved 🎉\")\n",
    "else:\n",
    "    print(\"Keep pushing 🚀\")\n",
    "\n",
    "# 🔹 Loops\n",
    "print(\"\\n--- Loops ---\")\n",
    "for tech in my_list:\n",
    "    print(f\"Learning: {tech}\")\n",
    "\n",
    "# 🔹 While Loop\n",
    "print(\"\\n--- While Loop ---\")\n",
    "count = 1\n",
    "while count <= 3:\n",
    "    print(f\"Round {count}\")\n",
    "    count += 1\n",
    "\n",
    "# 🔹 Challenge: Categorize a number\n",
    "print(\"\\n--- Challenge ---\")\n",
    "num = 0\n",
    "if num > 0:\n",
    "    print(\"Positive\")\n",
    "elif num < 0:\n",
    "    print(\"Negative\")\n",
    "else:\n",
    "    print(\"Zero\")"
   ]
  },
  {
   "cell_type": "code",
   "execution_count": null,
   "id": "d0dcab21-6e5a-4354-849f-e9da6d144314",
   "metadata": {},
   "outputs": [],
   "source": []
  }
 ],
 "metadata": {
  "kernelspec": {
   "display_name": "Python (venv)",
   "language": "python",
   "name": "venv"
  },
  "language_info": {
   "codemirror_mode": {
    "name": "ipython",
    "version": 3
   },
   "file_extension": ".py",
   "mimetype": "text/x-python",
   "name": "python",
   "nbconvert_exporter": "python",
   "pygments_lexer": "ipython3",
   "version": "3.13.5"
  }
 },
 "nbformat": 4,
 "nbformat_minor": 5
}
