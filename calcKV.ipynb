{
 "cells": [
  {
   "cell_type": "code",
   "execution_count": 14,
   "id": "a640fba2-e6f5-4cde-a229-5cda3aef5d02",
   "metadata": {},
   "outputs": [],
   "source": [
    "# calculator by Karan\n",
    "def addition(a,b):\n",
    "    return a+b\n",
    "def substract(a,b):\n",
    "    return a-b\n",
    "def multiplication(a,b):\n",
    "    return a*b\n",
    "def devide(a,b):\n",
    "    return a/b "
   ]
  },
  {
   "cell_type": "code",
   "execution_count": 15,
   "id": "dfc433f2-3793-492e-9a36-68203af8db70",
   "metadata": {},
   "outputs": [
    {
     "name": "stdout",
     "output_type": "stream",
     "text": [
      "Enter two values for calculation:\n"
     ]
    },
    {
     "name": "stdin",
     "output_type": "stream",
     "text": [
      "Enter first value 1234\n",
      "Enter second value 12345\n",
      "Enter 1 for add \n",
      "Enter 2 for sub \n",
      "Enter 3 for mult \n",
      "Enter 4 for div.\n",
      " 3\n"
     ]
    },
    {
     "name": "stdout",
     "output_type": "stream",
     "text": [
      "MULT: 15233730.\n"
     ]
    }
   ],
   "source": [
    "print(\"Enter two values for calculation:\")\n",
    "a=int(input(\"Enter first value\")) \n",
    "b=int(input(\"Enter second value\")) \n",
    "c=int(input(\"Enter 1 for add \\nEnter 2 for sub \\nEnter 3 for mult \\nEnter 4 for div.\\n\")) \n",
    "if c==1: print(f\"ADDITION: {addition(a,b)}.\") \n",
    "elif c==2: print(f\"SUB: {substract(a,b)}.\") \n",
    "elif c==3: print(f\"MULT: {multiplication(a,b)}.\") \n",
    "elif c==4: print(f\"DEV: {devide(a,b)}.\") \n",
    "else : print(\"Invalid response....\")"
   ]
  },
  {
   "cell_type": "code",
   "execution_count": null,
   "id": "f075def6-bd49-45e9-8871-056b8fa5c558",
   "metadata": {},
   "outputs": [],
   "source": []
  }
 ],
 "metadata": {
  "kernelspec": {
   "display_name": "Python (venv)",
   "language": "python",
   "name": "venv"
  },
  "language_info": {
   "codemirror_mode": {
    "name": "ipython",
    "version": 3
   },
   "file_extension": ".py",
   "mimetype": "text/x-python",
   "name": "python",
   "nbconvert_exporter": "python",
   "pygments_lexer": "ipython3",
   "version": "3.13.5"
  }
 },
 "nbformat": 4,
 "nbformat_minor": 5
}
